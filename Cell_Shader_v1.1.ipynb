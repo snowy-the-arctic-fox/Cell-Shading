{
  "nbformat": 4,
  "nbformat_minor": 0,
  "metadata": {
    "colab": {
      "provenance": [],
      "private_outputs": true,
      "gpuType": "T4"
    },
    "kernelspec": {
      "name": "python3",
      "display_name": "Python 3"
    },
    "language_info": {
      "name": "python"
    },
    "accelerator": "TPU",
    "gpuClass": "standard"
  },
  "cells": [
    {
      "cell_type": "markdown",
      "source": [
        "# Cell Shader\n",
        "### By Snowy\n",
        "*IMPORTANT: all inputs must be in \".jpg\" format\n",
        "\n",
        "---\n",
        "\n",
        "\n",
        "1. First, we import the necessary libraries: `cv2` for image processing, `numpy` for numerical operations, `PIL` for image manipulation, `ipywidgets` for creating interactive widgets, and `IPython.display` for displaying the output.\n",
        "\n",
        "2. We define the path to the input image file.\n",
        "\n",
        "3. The `image` variable is used to load the input image using `Image.open()` from the PIL library.\n",
        "\n",
        "4. We create a `FloatSlider` widget named `threshold_slider` to adjust the threshold value. The slider ranges from 0.0 to 1.0 with a step size of 0.01. It is initially set to a value of 1.0. This slider will be used to control the threshold for the edge detection process.\n",
        "\n",
        "5. An output widget named `output_image` is created. This widget will be used to display the cell-shaded image.\n",
        "\n",
        "6. The `update_cell_shading()` function is defined. This function takes the threshold value as input and updates the cell-shaded image based on that value. Here's what it does:\n",
        "   - Convert the input image to grayscale using the `convert()` method from PIL.\n",
        "   - Apply color quantization to reduce the number of colors in the image using the `posterize()` method from PIL. The number of colors is set to 8.\n",
        "   - Perform edge detection using the Canny algorithm from the `cv2` library. The threshold value is scaled to the range 0-255 and applied to the `Canny()` function.\n",
        "   - Clear the output widget and display the updated cell-shaded image using the `Image.fromarray()` method from PIL.\n",
        "\n",
        "7. The `interactive()` function from `ipywidgets` is used to link the `update_cell_shading()` function with the `threshold` parameter of the `threshold_slider` widget. This ensures that the `update_cell_shading()` function is called whenever the slider value changes.\n",
        "\n",
        "8. We display the `threshold_slider` and `output_image` widgets using the `display()` function from `IPython.display`.\n",
        "\n",
        "9. Finally, we initialize the cell-shaded image by calling the `update_cell_shading()` function with the initial value of the `threshold_slider`.\n",
        "\n",
        "With this code, you can interactively adjust the threshold value using the slider, and the cell-shaded image will update in real-time based on the selected threshold. The number of colors in the cell-shaded image is fixed at 8 due to the threshold slider becoming unable to function properly"
      ],
      "metadata": {
        "id": "fORBXBVaRBPr"
      }
    },
    {
      "cell_type": "code",
      "execution_count": null,
      "metadata": {
        "id": "E12rqF-0dhIc",
        "cellView": "form"
      },
      "outputs": [],
      "source": [
        "#@title Install\n",
        "!pip install opencv-python"
      ]
    },
    {
      "cell_type": "code",
      "source": [
        "#@title Import\n",
        "import cv2\n",
        "import numpy as np\n",
        "from google.colab.patches import cv2_imshow"
      ],
      "metadata": {
        "id": "X45DmiA2fENA"
      },
      "execution_count": null,
      "outputs": []
    },
    {
      "cell_type": "code",
      "source": [
        "from google.colab import files\n",
        "from PIL import Image\n",
        "import io\n",
        "import os\n",
        "\n",
        "# Create the \"input\" directory if it doesn't exist\n",
        "input_dir = \"/content/input\"\n",
        "os.makedirs(input_dir, exist_ok=True)\n",
        "\n",
        "# Upload the image file\n",
        "uploaded = files.upload()\n",
        "\n",
        "# Get the file name of the uploaded image\n",
        "file_name = next(iter(uploaded))\n",
        "\n",
        "# Set the desired file name for the image\n",
        "new_file_name = \"image.jpg\"\n",
        "\n",
        "# Load the image\n",
        "image = Image.open(io.BytesIO(uploaded[file_name]))\n",
        "\n",
        "# Check if the image was loaded successfully\n",
        "if image is None:\n",
        "    print(\"Failed to load the image.\")\n",
        "else:\n",
        "    # Save the original image in the \"content\" folder\n",
        "    image.save(os.path.join(\"/content\", file_name))\n",
        "    \n",
        "    # Move the image to the \"input\" folder with the desired file name\n",
        "    os.rename(os.path.join(\"/content\", file_name), os.path.join(input_dir, new_file_name))\n",
        "    \n",
        "    print(\"Image loaded successfully.\")\n"
      ],
      "metadata": {
        "id": "a5NCXj0tfncI"
      },
      "execution_count": null,
      "outputs": []
    },
    {
      "cell_type": "code",
      "source": [
        "#@title Load Image\n",
        "# Load the input image from the \"input\" folder\n",
        "image_path = 'input/image.jpg'\n",
        "image = cv2.imread(image_path)\n",
        "\n",
        "# Check if the image was loaded successfully\n",
        "if image is None:\n",
        "    print(\"Failed to load the image.\")\n",
        "else:\n",
        "    # Display the input image\n",
        "    cv2_imshow(image)\n"
      ],
      "metadata": {
        "id": "wHEIrTtGfJcV",
        "cellView": "form"
      },
      "execution_count": null,
      "outputs": []
    },
    {
      "cell_type": "code",
      "source": [
        "import cv2\n",
        "import numpy as np\n",
        "from PIL import Image, ImageOps\n",
        "import ipywidgets as widgets\n",
        "from IPython.display import display\n",
        "from google.colab import files\n",
        "import os\n",
        "\n",
        "# Define the global variables for image and edges\n",
        "image = None\n",
        "edges = None\n",
        "\n",
        "# Load the input image\n",
        "image_path = 'input/image.jpg'\n",
        "image = Image.open(image_path)\n",
        "\n",
        "# Create a slider widget for adjusting the threshold value\n",
        "threshold_slider = widgets.FloatSlider(value=1.0, min=0.0, max=1.0, step=0.01, description='Threshold:')\n",
        "\n",
        "# Create an output widget for displaying the cell-shaded image\n",
        "output_image = widgets.Output()\n",
        "\n",
        "# Define a function to update the cell-shaded image based on the threshold value\n",
        "def update_cell_shading(threshold):\n",
        "    global edges, image  # Make edges and image variables global\n",
        "\n",
        "    # Convert the image to grayscale\n",
        "    grayscale = image.convert('L')\n",
        "\n",
        "    # Apply color quantization to reduce the number of colors\n",
        "    posterized = ImageOps.posterize(grayscale, 8)\n",
        "\n",
        "    # Apply edge detection using the Canny algorithm\n",
        "    edges = cv2.Canny(np.array(posterized), threshold * 255, threshold * 255 * 2)\n",
        "\n",
        "    # Clear the output widget and display the updated cell-shaded image\n",
        "    with output_image:\n",
        "        output_image.clear_output()\n",
        "        display(Image.fromarray(edges, 'L'))\n",
        "\n",
        "# Register the update function to be called when the slider value changes\n",
        "widgets.interactive(update_cell_shading, threshold=threshold_slider)\n",
        "\n",
        "# Display the slider and the initial cell-shaded image\n",
        "display(threshold_slider)\n",
        "display(output_image)\n",
        "\n",
        "# Initialize the cell-shaded image with the default slider value\n",
        "update_cell_shading(threshold_slider.value)\n",
        "\n",
        "# Create the \"output\" directory if it doesn't exist\n",
        "output_dir = \"/content/output\"\n",
        "os.makedirs(output_dir, exist_ok=True)\n",
        "\n",
        "# Define a function to handle the download of the cell-shaded image\n",
        "def download_image(_):\n",
        "    global edges  # Make edges variable global\n",
        "\n",
        "    if edges is not None:\n",
        "        # Save the cell-shaded image as \"out.jpg\"\n",
        "        out_image_path = os.path.join(output_dir, \"out.jpg\")\n",
        "        Image.fromarray(edges, 'L').save(out_image_path)\n",
        "        print(\"Cell-shaded image saved as 'out.jpg'\")\n",
        "    else:\n",
        "        print(\"Cell-shaded image not available. Please adjust the threshold and try again.\")\n",
        "\n",
        "# Create the download button\n",
        "download_image_button = widgets.Button(description=\"Download as Image\")\n",
        "\n",
        "# Register the button click event\n",
        "download_image_button.on_click(download_image)\n",
        "\n",
        "# Display the download button\n",
        "display(download_image_button)\n"
      ],
      "metadata": {
        "id": "wPWbc7_qfSwR"
      },
      "execution_count": null,
      "outputs": []
    }
  ]
}